{
 "cells": [
  {
   "cell_type": "code",
   "execution_count": 7,
   "id": "bb460742-f6b9-4e82-9ec3-46242ed9c42d",
   "metadata": {},
   "outputs": [
    {
     "name": "stdout",
     "output_type": "stream",
     "text": [
      "🔮 Predicted return probability: 40.00%\n"
     ]
    }
   ],
   "source": [
    "import joblib\n",
    "import pandas as pd\n",
    "\n",
    "# 모델 로드\n",
    "model = joblib.load('return_model_0805.pkl')\n",
    "\n",
    "# 학습 때 사용한 정확한 열 이름\n",
    "columns = [\n",
    "    \"age_in_months\", \"breed_encoded\", \"health_score\", \"spraybrush_used\",\n",
    "    \"weather_score\", \"water_nearby\", \"rescuer_gender\", \"has_identity\", \"days_until_return\"\n",
    "]\n",
    "\n",
    "# 입력값 예시\n",
    "data = pd.DataFrame([[18, 3, 4, 1, 2, 1, 0, 1, 10]], columns=columns)\n",
    "\n",
    "# 예측\n",
    "prob = model.predict_proba(data)[0][1]\n",
    "\n",
    "print(f\"🔮 Predicted return probability: {prob:.2%}\")\n"
   ]
  },
  {
   "cell_type": "code",
   "execution_count": null,
   "id": "7d3bbc45-8d1b-4761-a4ef-5d8f82400ca4",
   "metadata": {},
   "outputs": [],
   "source": []
  }
 ],
 "metadata": {
  "kernelspec": {
   "display_name": "Python [conda env:base] *",
   "language": "python",
   "name": "conda-base-py"
  },
  "language_info": {
   "codemirror_mode": {
    "name": "ipython",
    "version": 3
   },
   "file_extension": ".py",
   "mimetype": "text/x-python",
   "name": "python",
   "nbconvert_exporter": "python",
   "pygments_lexer": "ipython3",
   "version": "3.12.7"
  }
 },
 "nbformat": 4,
 "nbformat_minor": 5
}
