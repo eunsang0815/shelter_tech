{
 "cells": [
  {
   "cell_type": "code",
   "execution_count": 1,
   "id": "35a29cd4-dbfa-4164-b329-9421548b83a9",
   "metadata": {},
   "outputs": [
    {
     "name": "stdout",
     "output_type": "stream",
     "text": [
      "정확도: 1.0\n",
      "              precision    recall  f1-score   support\n",
      "\n",
      "           1       1.00      1.00      1.00         5\n",
      "\n",
      "    accuracy                           1.00         5\n",
      "   macro avg       1.00      1.00      1.00         5\n",
      "weighted avg       1.00      1.00      1.00         5\n",
      "\n",
      "\n",
      "모델이 'return_model_0805.pkl'로 저장되었습니다.\n"
     ]
    }
   ],
   "source": [
    "# 📦 Step 1: 귀환율 예측을 위한 데이터 생성 및 모델 학습\n",
    "\n",
    "import pandas as pd\n",
    "from sklearn.model_selection import train_test_split\n",
    "from sklearn.ensemble import RandomForestClassifier\n",
    "from sklearn.metrics import classification_report, accuracy_score\n",
    "import joblib\n",
    "import numpy as np\n",
    "\n",
    "# 🎯 예시 데이터 생성 (20개 샘플)\n",
    "data = pd.DataFrame({\n",
    "    'age_in_months': np.random.randint(1, 120, size=20),\n",
    "    'breed_encoded': np.random.randint(1, 11, size=20),  # 1~10번 품종\n",
    "    'health_score': np.random.randint(1, 6, size=20),\n",
    "    'spraybrush_used': np.random.choice([0, 1], size=20),\n",
    "    'weather_score': np.random.randint(1, 6, size=20),\n",
    "    'water_nearby': np.random.choice([0, 1], size=20),\n",
    "    'rescuer_gender': np.random.choice([0, 1], size=20),  # 0:여자, 1:남자\n",
    "    'has_identity': np.random.choice([0, 1], size=20),\n",
    "    'days_until_return': np.random.randint(1, 30, size=20),\n",
    "    'is_returned': np.random.choice([0, 1], size=20)\n",
    "})\n",
    "\n",
    "# 🔍 특징(X)와 라벨(y) 분리\n",
    "X = data.drop('is_returned', axis=1)\n",
    "y = data['is_returned']\n",
    "\n",
    "# 📚 훈련/테스트 분할\n",
    "X_train, X_test, y_train, y_test = train_test_split(X, y, random_state=42)\n",
    "\n",
    "# 🧠 모델 학습\n",
    "model = RandomForestClassifier()\n",
    "model.fit(X_train, y_train)\n",
    "\n",
    "# 📊 평가\n",
    "y_pred = model.predict(X_test)\n",
    "print(\"정확도:\", accuracy_score(y_test, y_pred))\n",
    "print(classification_report(y_test, y_pred))\n",
    "\n",
    "# 💾 모델 저장\n",
    "joblib.dump(model, 'return_model_0805.pkl')\n",
    "print(\"\\n모델이 'return_model_0805.pkl'로 저장되었습니다.\")"
   ]
  },
  {
   "cell_type": "code",
   "execution_count": null,
   "id": "1d587bdb-8397-4f1d-bb62-4a2154b0f3ba",
   "metadata": {},
   "outputs": [],
   "source": []
  }
 ],
 "metadata": {
  "kernelspec": {
   "display_name": "Python [conda env:base] *",
   "language": "python",
   "name": "conda-base-py"
  },
  "language_info": {
   "codemirror_mode": {
    "name": "ipython",
    "version": 3
   },
   "file_extension": ".py",
   "mimetype": "text/x-python",
   "name": "python",
   "nbconvert_exporter": "python",
   "pygments_lexer": "ipython3",
   "version": "3.12.7"
  }
 },
 "nbformat": 4,
 "nbformat_minor": 5
}
