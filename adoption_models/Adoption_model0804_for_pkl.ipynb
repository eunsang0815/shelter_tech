{
 "cells": [
  {
   "cell_type": "code",
   "execution_count": 1,
   "id": "e382c8e6-475c-4d4d-b94e-d617aae1c859",
   "metadata": {},
   "outputs": [
    {
     "name": "stdout",
     "output_type": "stream",
     "text": [
      "✅ 모델이 성공적으로 저장되었습니다: adoption_model_0804.pkl\n"
     ]
    }
   ],
   "source": [
    "import pandas as pd\n",
    "import numpy as np\n",
    "from sklearn.ensemble import RandomForestClassifier\n",
    "from sklearn.model_selection import train_test_split\n",
    "import joblib\n",
    "\n",
    "# 샘플 데이터 생성 (예시)\n",
    "data = pd.DataFrame({\n",
    "    'age': np.random.randint(1, 240, 100),\n",
    "    'breed': np.random.choice([1, 2, 3], 100),\n",
    "    'health': np.random.randint(1, 6, 100),\n",
    "    'spray': np.random.choice([0, 1], 100),\n",
    "    'skin': np.random.randint(1, 6, 100),\n",
    "    'days': np.random.randint(0, 61, 100),\n",
    "    'adopted': np.random.choice([0, 1], 100)\n",
    "})\n",
    "\n",
    "X = data[['age', 'breed', 'health', 'spray', 'skin', 'days']]\n",
    "y = data['adopted']\n",
    "\n",
    "X_train, X_test, y_train, y_test = train_test_split(X, y, test_size=0.2, random_state=42)\n",
    "\n",
    "model = RandomForestClassifier()\n",
    "model.fit(X_train, y_train)\n",
    "\n",
    "# 모델 저장\n",
    "joblib.dump(model, 'adoption_model_0804.pkl')\n",
    "\n",
    "print(\"✅ 모델이 성공적으로 저장되었습니다: adoption_model_0804.pkl\")"
   ]
  },
  {
   "cell_type": "code",
   "execution_count": null,
   "id": "2fb8bef0-8700-49f9-b417-d555d7b99af2",
   "metadata": {},
   "outputs": [],
   "source": []
  }
 ],
 "metadata": {
  "kernelspec": {
   "display_name": "Python [conda env:base] *",
   "language": "python",
   "name": "conda-base-py"
  },
  "language_info": {
   "codemirror_mode": {
    "name": "ipython",
    "version": 3
   },
   "file_extension": ".py",
   "mimetype": "text/x-python",
   "name": "python",
   "nbconvert_exporter": "python",
   "pygments_lexer": "ipython3",
   "version": "3.12.7"
  }
 },
 "nbformat": 4,
 "nbformat_minor": 5
}
