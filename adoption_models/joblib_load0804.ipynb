{
 "cells": [
  {
   "cell_type": "code",
   "execution_count": null,
   "id": "2b2cc1ea-d64f-44e1-9dec-dae8c23e6635",
   "metadata": {},
   "outputs": [],
   "source": [
    "import streamlit as st\n",
    "import joblib\n",
    "import numpy as np\n",
    "\n",
    "# 모델 로드\n",
    "model = joblib.load('adoption_model_0804.pkl')\n",
    "\n",
    "st.title(\"🐶 입양 확률 예측기 (v0804)\")\n",
    "st.write(\"SprayBrush 사용 시 건강 개선 효과가 반영된 모델입니다.\")\n",
    "\n",
    "# 입력 받기\n",
    "age = st.slider(\"동물 나이 (개월)\", 0, 240, 24)\n",
    "breed = st.selectbox(\"품종 코드 (예시)\", [1, 2, 3])\n",
    "health = st.slider(\"건강 점수 (1~5)\", 1, 5, 3)\n",
    "spray = st.checkbox(\"SprayBrush 사용\")\n",
    "skin = st.slider(\"피부 개선 점수 (1~5)\", 1, 5, 3)\n",
    "days = st.slider(\"보호소 체류 기간\", 0, 60, 10)\n",
    "\n",
    "# 예측\n",
    "input_data = np.array([[age, breed, health, int(spray), skin, days]])\n",
    "prob = model.predict_proba(input_data)[0][1]\n",
    "\n",
    "# 출력\n",
    "st.subheader(f\"🔮 예측된 입양 확률: **{prob:.2%}**\")"
   ]
  }
 ],
 "metadata": {
  "kernelspec": {
   "display_name": "Python [conda env:base] *",
   "language": "python",
   "name": "conda-base-py"
  },
  "language_info": {
   "codemirror_mode": {
    "name": "ipython",
    "version": 3
   },
   "file_extension": ".py",
   "mimetype": "text/x-python",
   "name": "python",
   "nbconvert_exporter": "python",
   "pygments_lexer": "ipython3",
   "version": "3.12.7"
  }
 },
 "nbformat": 4,
 "nbformat_minor": 5
}
