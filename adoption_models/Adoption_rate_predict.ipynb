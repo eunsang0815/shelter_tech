{
 "cells": [
  {
   "cell_type": "code",
   "execution_count": 1,
   "id": "4f20844e-ada1-4de5-8bff-49f554adb2c7",
   "metadata": {},
   "outputs": [
    {
     "name": "stdout",
     "output_type": "stream",
     "text": [
      "정확도: 1.0\n",
      "              precision    recall  f1-score   support\n",
      "\n",
      "           1       1.00      1.00      1.00         2\n",
      "\n",
      "    accuracy                           1.00         2\n",
      "   macro avg       1.00      1.00      1.00         2\n",
      "weighted avg       1.00      1.00      1.00         2\n",
      "\n",
      "모델이 'adoption_model_0804.pkl' 파일로 저장되었습니다.\n"
     ]
    }
   ],
   "source": [
    "import pandas as pd\n",
    "from sklearn.model_selection import train_test_split\n",
    "from sklearn.ensemble import RandomForestClassifier\n",
    "from sklearn.metrics import classification_report, accuracy_score\n",
    "import joblib\n",
    "\n",
    "# 📊 예시 데이터 생성 (6개 변수 포함)\n",
    "data = pd.DataFrame({\n",
    "    'age_in_months': [12, 24, 6, 36, 48, 20],\n",
    "    'breed_encoded': [1, 2, 1, 3, 1, 2],\n",
    "    'health_score': [3, 4, 2, 5, 4, 3],\n",
    "    'spraybrush_used': [1, 1, 0, 1, 1, 0],\n",
    "    'skin_improvement_score': [4, 5, 1, 5, 4, 2],\n",
    "    'days_in_shelter': [5, 7, 15, 3, 4, 20],\n",
    "    'is_adopted': [1, 1, 0, 1, 1, 0]\n",
    "})\n",
    "\n",
    "# 🎯 학습 데이터 분할\n",
    "X = data.drop('is_adopted', axis=1)\n",
    "y = data['is_adopted']\n",
    "X_train, X_test, y_train, y_test = train_test_split(X, y, random_state=42)\n",
    "\n",
    "# 🧠 모델 학습\n",
    "model = RandomForestClassifier(random_state=42)\n",
    "model.fit(X_train, y_train)\n",
    "\n",
    "# 🔍 평가\n",
    "y_pred = model.predict(X_test)\n",
    "print(\"정확도:\", accuracy_score(y_test, y_pred))\n",
    "print(classification_report(y_test, y_pred))\n",
    "\n",
    "# 💾 모델 저장 (.pkl 파일 생성)\n",
    "joblib.dump(model, 'adoption_model_0804.pkl')\n",
    "print(\"모델이 'adoption_model_0804.pkl' 파일로 저장되었습니다.\")"
   ]
  },
  {
   "cell_type": "code",
   "execution_count": null,
   "id": "05978440-2475-4370-85ce-8b2093bd376a",
   "metadata": {},
   "outputs": [],
   "source": []
  }
 ],
 "metadata": {
  "kernelspec": {
   "display_name": "Python [conda env:base] *",
   "language": "python",
   "name": "conda-base-py"
  },
  "language_info": {
   "codemirror_mode": {
    "name": "ipython",
    "version": 3
   },
   "file_extension": ".py",
   "mimetype": "text/x-python",
   "name": "python",
   "nbconvert_exporter": "python",
   "pygments_lexer": "ipython3",
   "version": "3.12.7"
  }
 },
 "nbformat": 4,
 "nbformat_minor": 5
}
